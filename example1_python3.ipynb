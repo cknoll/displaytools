{
 "cells": [
  {
   "cell_type": "markdown",
   "metadata": {},
   "source": [
    "This example documents the [displaytools](https://github.com/cknoll/displaytools) extension for the IPython Notebook."
   ]
  },
  {
   "cell_type": "code",
   "execution_count": 1,
   "metadata": {},
   "outputs": [],
   "source": [
    "%load_ext displaytools3\n",
    "#%reload_ext displaytools"
   ]
  },
  {
   "cell_type": "code",
   "execution_count": 2,
   "metadata": {},
   "outputs": [],
   "source": [
    "import sympy as sp\n",
    "from sympy import sin, cos\n",
    "from sympy.abc import t, pi"
   ]
  },
  {
   "cell_type": "code",
   "execution_count": 3,
   "metadata": {},
   "outputs": [
    {
     "data": {
      "text/plain": [
       "-2*pi*sin(2*pi*t)"
      ]
     },
     "metadata": {},
     "output_type": "display_data"
    },
    {
     "name": "stdout",
     "output_type": "stream",
     "text": [
      "---\n"
     ]
    },
    {
     "data": {
      "text/plain": [
       "-2*pi*t*sin(2*pi*t) + cos(2*pi*t)"
      ]
     },
     "metadata": {},
     "output_type": "display_data"
    },
    {
     "name": "stdout",
     "output_type": "stream",
     "text": [
      "---\n"
     ]
    },
    {
     "data": {
      "text/plain": [
       "Derivative(cos(2*pi*t), t)"
      ]
     },
     "metadata": {},
     "output_type": "display_data"
    },
    {
     "name": "stdout",
     "output_type": "stream",
     "text": [
      "---\n"
     ]
    }
   ],
   "source": [
    "x = 2*pi*t\n",
    "y1 = cos(x)\n",
    "y2 = cos(x)*t\n",
    "ydot1 = y1.diff(t) ##\n",
    "ydot2 = y2.diff(t) ##\n",
    "ydot1_obj = y1.diff(t, evaluate=False) ##"
   ]
  },
  {
   "cell_type": "markdown",
   "metadata": {},
   "source": [
    "Note that the equation sign (i.e., `=`) must be enclosed by two spaces, i.e.: `lhs = rhs`."
   ]
  },
  {
   "cell_type": "markdown",
   "metadata": {},
   "source": [
    "---\n",
    "If the variable name is also desired this can be triggered by `##:`"
   ]
  },
  {
   "cell_type": "code",
   "execution_count": 4,
   "metadata": {},
   "outputs": [
    {
     "data": {
      "text/plain": [
       "ydot1 := -2*pi*sin(2*pi*t)"
      ]
     },
     "metadata": {},
     "output_type": "display_data"
    },
    {
     "name": "stdout",
     "output_type": "stream",
     "text": [
      "---\n"
     ]
    },
    {
     "data": {
      "text/plain": [
       "ydot2 := -2*pi*t*sin(2*pi*t) + cos(2*pi*t)"
      ]
     },
     "metadata": {},
     "output_type": "display_data"
    },
    {
     "name": "stdout",
     "output_type": "stream",
     "text": [
      "---\n"
     ]
    },
    {
     "data": {
      "text/plain": [
       "ydot1_obj := Derivative(cos(2*pi*t), t)"
      ]
     },
     "metadata": {},
     "output_type": "display_data"
    },
    {
     "name": "stdout",
     "output_type": "stream",
     "text": [
      "---\n"
     ]
    }
   ],
   "source": [
    "ydot1 = y1.diff(t) ##:\n",
    "ydot2 = y2.diff(t) ##:\n",
    "ydot1_obj = y1.diff(t, evaluate=False) ##:"
   ]
  },
  {
   "cell_type": "markdown",
   "metadata": {},
   "source": [
    "---\n",
    "Printing can be combined with LaTeX rendering:"
   ]
  },
  {
   "cell_type": "code",
   "execution_count": 5,
   "metadata": {},
   "outputs": [],
   "source": [
    "sp.interactive.printing.init_printing(1)"
   ]
  },
  {
   "cell_type": "code",
   "execution_count": 6,
   "metadata": {},
   "outputs": [
    {
     "data": {
      "image/png": "[encoded data removed]",
      "text/latex": [
       "$$- 2 \\pi \\sin{\\left (2 \\pi t \\right )}$$"
      ],
      "text/plain": [
       "-2⋅π⋅sin(2⋅π⋅t)"
      ]
     },
     "metadata": {},
     "output_type": "display_data"
    },
    {
     "name": "stdout",
     "output_type": "stream",
     "text": [
      "---\n"
     ]
    },
    {
     "data": {
      "image/png": "[encoded data removed]",
      "text/latex": [
       "$$- 2 \\pi t \\sin{\\left (2 \\pi t \\right )} + \\cos{\\left (2 \\pi t \\right )}$$"
      ],
      "text/plain": [
       "-2⋅π⋅t⋅sin(2⋅π⋅t) + cos(2⋅π⋅t)"
      ]
     },
     "metadata": {},
     "output_type": "display_data"
    },
    {
     "name": "stdout",
     "output_type": "stream",
     "text": [
      "---\n"
     ]
    },
    {
     "data": {
      "image/png": "[encoded data removed]",
      "text/latex": [
       "$$\\frac{\\partial}{\\partial t} \\cos{\\left (2 \\pi t \\right )}$$"
      ],
      "text/plain": [
       "∂             \n",
       "──(cos(2⋅π⋅t))\n",
       "∂t            "
      ]
     },
     "metadata": {},
     "output_type": "display_data"
    },
    {
     "name": "stdout",
     "output_type": "stream",
     "text": [
      "---\n"
     ]
    }
   ],
   "source": [
    "ydot1 = y1.diff(t) ##:\n",
    "ydot2 = y2.diff(t) ##:\n",
    "ydot1_obj = y1.diff(t, evaluate=False) ##:"
   ]
  },
  {
   "cell_type": "markdown",
   "metadata": {},
   "source": [
    "---\n",
    "\n",
    "If there is no assignment taking place, `##` nevertheless causes the display of the respective result."
   ]
  },
  {
   "cell_type": "code",
   "execution_count": 7,
   "metadata": {},
   "outputs": [
    {
     "data": {
      "image/png": "[encoded data removed]",
      "text/latex": [
       "$$- 4 \\pi^{2} \\cos{\\left (2 \\pi t \\right )}$$"
      ],
      "text/plain": [
       "    2           \n",
       "-4⋅π ⋅cos(2⋅π⋅t)"
      ]
     },
     "metadata": {},
     "output_type": "display_data"
    },
    {
     "name": "stdout",
     "output_type": "stream",
     "text": [
      "___\n"
     ]
    },
    {
     "data": {
      "image/png": "[encoded data removed]",
      "text/latex": [
       "$$- 4 \\pi \\left(\\pi t \\cos{\\left (2 \\pi t \\right )} + \\sin{\\left (2 \\pi t \\right )}\\right)$$"
      ],
      "text/plain": [
       "-4⋅π⋅(π⋅t⋅cos(2⋅π⋅t) + sin(2⋅π⋅t))"
      ]
     },
     "metadata": {},
     "output_type": "display_data"
    },
    {
     "name": "stdout",
     "output_type": "stream",
     "text": [
      "___\n"
     ]
    }
   ],
   "source": [
    "y1.diff(t,t) ##\n",
    "y2.diff(t,t) ##"
   ]
  },
  {
   "cell_type": "markdown",
   "metadata": {},
   "source": [
    "### Transposition\n",
    "\n",
    "Sometimes, it can save much space if some return value is displayed in transposed form (while still being assigned not transposed)."
   ]
  },
  {
   "cell_type": "code",
   "execution_count": 8,
   "metadata": {},
   "outputs": [
    {
     "data": {
      "image/png": "[encoded data removed]",
      "text/latex": [
       "$$\\left[\\begin{matrix}x_{1} & x_{2} & x_{3} & x_{4} & x_{5} & x_{6} & x_{7} & x_{8} & x_{9} & x_{10}\\end{matrix}\\right]$$"
      ],
      "text/plain": [
       "[x₁  x₂  x₃  x₄  x₅  x₆  x₇  x₈  x₉  x₁₀]"
      ]
     },
     "metadata": {},
     "output_type": "display_data"
    },
    {
     "name": "stdout",
     "output_type": "stream",
     "text": [
      "---\n"
     ]
    },
    {
     "data": {
      "image/png": "[encoded data removed]",
      "text/latex": [
       "$$\\left[\\begin{matrix}y_{1} & y_{2} & y_{3} & y_{4} & y_{5} & y_{6} & y_{7} & y_{8} & y_{9} & y_{10}\\end{matrix}\\right]$$"
      ],
      "text/plain": [
       "[y₁  y₂  y₃  y₄  y₅  y₆  y₇  y₈  y₉  y₁₀]"
      ]
     },
     "metadata": {},
     "output_type": "display_data"
    },
    {
     "name": "stdout",
     "output_type": "stream",
     "text": [
      "---\n"
     ]
    },
    {
     "data": {
      "image/png": "[encoded data removed]",
      "text/latex": [
       "$$\\left[\\begin{matrix}x_{1} + y_{1} & x_{2} + y_{2} & x_{3} + y_{3} & x_{4} + y_{4} & x_{5} + y_{5} & x_{6} + y_{6} & x_{7} + y_{7} & x_{8} + y_{8} & x_{9} + y_{9} & x_{10} + y_{10}\\end{matrix}\\right]$$"
      ],
      "text/plain": [
       "[x₁ + y₁  x₂ + y₂  x₃ + y₃  x₄ + y₄  x₅ + y₅  x₆ + y₆  x₇ + y₇  x₈ + y₈  x₉ + \n",
       "y₉  x₁₀ + y₁₀]"
      ]
     },
     "metadata": {},
     "output_type": "display_data"
    },
    {
     "name": "stdout",
     "output_type": "stream",
     "text": [
      "___\n"
     ]
    }
   ],
   "source": [
    "xx = sp.Matrix(sp.symbols('x1:11')) ##T\n",
    "yy = sp.Matrix(sp.symbols('y1:11')) ##:T\n",
    "xx + yy ##T"
   ]
  },
  {
   "cell_type": "markdown",
   "metadata": {},
   "source": [
    "### Why this extension might be useful?\n",
    "\n",
    " * It saves space in the final document, when intermediate results shall be displayed (e.g. for didactic purpose)\n",
    "   * allows to focus more on the content/results instead of boilerplate printing code\n",
    " * It saves typing effort during the development process (when much more internal information is of interest to understand and debug the code)\n",
    "   "
   ]
  }
 ],
 "metadata": {
  "kernelspec": {
   "display_name": "Python 3",
   "language": "python",
   "name": "python3"
  },
  "language_info": {
   "codemirror_mode": {
    "name": "ipython",
    "version": 3
   },
   "file_extension": ".py",
   "mimetype": "text/x-python",
   "name": "python",
   "nbconvert_exporter": "python",
   "pygments_lexer": "ipython3",
   "version": "3.5.3"
  }
 },
 "nbformat": 4,
 "nbformat_minor": 1
}
