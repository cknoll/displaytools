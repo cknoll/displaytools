{
 "metadata": {
  "name": "",
  "signature": "sha256:458f2029bdc82742aed3f2d489826fe2f172b6c8b707b9f0800234a485437412"
 },
 "nbformat": 3,
 "nbformat_minor": 0,
 "worksheets": [
  {
   "cells": [
    {
     "cell_type": "markdown",
     "metadata": {},
     "source": [
      "This example documents the [displaytools](https://github.com/cknoll/displaytools) extension for the IPython Notebook"
     ]
    },
    {
     "cell_type": "code",
     "collapsed": false,
     "input": [
      "%load_ext displaytools"
     ],
     "language": "python",
     "metadata": {},
     "outputs": [],
     "prompt_number": 1
    },
    {
     "cell_type": "code",
     "collapsed": false,
     "input": [
      "import sympy as sp\n",
      "from sympy import sin, cos\n",
      "from sympy.abc import t, pi"
     ],
     "language": "python",
     "metadata": {},
     "outputs": [],
     "prompt_number": 2
    },
    {
     "cell_type": "code",
     "collapsed": false,
     "input": [
      "x = 2*pi*t\n",
      "y1 = cos(x)\n",
      "y2 = cos(x)*t\n",
      "ydot1 = y1.diff(t) ##\n",
      "ydot2 = y2.diff(t) ##\n",
      "ydot1_obj = y1.diff(t, evaluate=False) ##"
     ],
     "language": "python",
     "metadata": {},
     "outputs": [
      {
       "metadata": {},
       "output_type": "display_data",
       "text": [
        "-2*pi*sin(2*pi*t)"
       ]
      },
      {
       "output_type": "stream",
       "stream": "stdout",
       "text": [
        "---\n"
       ]
      },
      {
       "metadata": {},
       "output_type": "display_data",
       "text": [
        "-2*pi*t*sin(2*pi*t) + cos(2*pi*t)"
       ]
      },
      {
       "output_type": "stream",
       "stream": "stdout",
       "text": [
        "---\n"
       ]
      },
      {
       "metadata": {},
       "output_type": "display_data",
       "text": [
        "Derivative(cos(2*pi*t), t)"
       ]
      },
      {
       "output_type": "stream",
       "stream": "stdout",
       "text": [
        "---\n"
       ]
      }
     ],
     "prompt_number": 3
    },
    {
     "cell_type": "markdown",
     "metadata": {},
     "source": [
      "Note that the equation sign must be enclosed by two spaces, i.e.: `lhs = rhs`."
     ]
    },
    {
     "cell_type": "markdown",
     "metadata": {},
     "source": [
      "---\n",
      "If the variable name is also desired this can be triggered by `##:`"
     ]
    },
    {
     "cell_type": "code",
     "collapsed": false,
     "input": [
      "ydot1 = y1.diff(t) ##:\n",
      "ydot2 = y2.diff(t) ##:\n",
      "ydot1_obj = y1.diff(t, evaluate=False) ##:"
     ],
     "language": "python",
     "metadata": {},
     "outputs": [
      {
       "metadata": {},
       "output_type": "display_data",
       "text": [
        "ydot1 := -2*pi*sin(2*pi*t)"
       ]
      },
      {
       "output_type": "stream",
       "stream": "stdout",
       "text": [
        "---\n"
       ]
      },
      {
       "metadata": {},
       "output_type": "display_data",
       "text": [
        "ydot2 := -2*pi*t*sin(2*pi*t) + cos(2*pi*t)"
       ]
      },
      {
       "output_type": "stream",
       "stream": "stdout",
       "text": [
        "---\n"
       ]
      },
      {
       "metadata": {},
       "output_type": "display_data",
       "text": [
        "ydot1_obj := Derivative(cos(2*pi*t), t)"
       ]
      },
      {
       "output_type": "stream",
       "stream": "stdout",
       "text": [
        "---\n"
       ]
      }
     ],
     "prompt_number": 4
    },
    {
     "cell_type": "markdown",
     "metadata": {},
     "source": [
      "---\n",
      "Printing can be combined with LaTeX rendering:"
     ]
    },
    {
     "cell_type": "code",
     "collapsed": false,
     "input": [
      "sp.interactive.printing.init_printing(1)"
     ],
     "language": "python",
     "metadata": {},
     "outputs": [],
     "prompt_number": 5
    },
    {
     "cell_type": "code",
     "collapsed": false,
     "input": [
      "ydot1 = y1.diff(t) ##:\n",
      "ydot2 = y2.diff(t) ##:\n",
      "ydot1_obj = y1.diff(t, evaluate=False) ##:"
     ],
     "language": "python",
     "metadata": {},
     "outputs": [
      {
       "latex": [
        "ydot1 := $$- 2 \\pi \\sin{\\left (2 \\pi t \\right )}$$"
       ],
       "metadata": {},
       "output_type": "display_data",
       "png": "[encoded data removed]",
       "text": [
        "ydot1 := -2\u22c5\u03c0\u22c5sin(2\u22c5\u03c0\u22c5t)"
       ]
      },
      {
       "output_type": "stream",
       "stream": "stdout",
       "text": [
        "---\n"
       ]
      },
      {
       "latex": [
        "ydot2 := $$- 2 \\pi t \\sin{\\left (2 \\pi t \\right )} + \\cos{\\left (2 \\pi t \\right )}$$"
       ],
       "metadata": {},
       "output_type": "display_data",
       "png": "[encoded data removed]",
       "text": [
        "ydot2 := -2\u22c5\u03c0\u22c5t\u22c5sin(2\u22c5\u03c0\u22c5t) + cos(2\u22c5\u03c0\u22c5t)"
       ]
      },
      {
       "output_type": "stream",
       "stream": "stdout",
       "text": [
        "---\n"
       ]
      },
      {
       "latex": [
        "ydot1_obj := $$\\frac{\\partial}{\\partial t} \\cos{\\left (2 \\pi t \\right )}$$"
       ],
       "metadata": {},
       "output_type": "display_data",
       "png": "[encoded data removed]",
       "text": [
        "ydot1_obj := \u2202             \n",
        "\u2500\u2500(cos(2\u22c5\u03c0\u22c5t))\n",
        "\u2202t            "
       ]
      },
      {
       "output_type": "stream",
       "stream": "stdout",
       "text": [
        "---\n"
       ]
      }
     ],
     "prompt_number": 6
    },
    {
     "cell_type": "markdown",
     "metadata": {},
     "source": [
      "---\n",
      "\n",
      "If there is no assignment taking place, `##` nevertheless causes the display of the respective result."
     ]
    },
    {
     "cell_type": "code",
     "collapsed": false,
     "input": [
      "y1.diff(t,t) ##\n",
      "y2.diff(t,t) ##"
     ],
     "language": "python",
     "metadata": {},
     "outputs": [
      {
       "latex": [
        "$$- 4 \\pi^{2} \\cos{\\left (2 \\pi t \\right )}$$"
       ],
       "metadata": {},
       "output_type": "display_data",
       "png": "[encoded data removed]",
       "text": [
        "    2           \n",
        "-4\u22c5\u03c0 \u22c5cos(2\u22c5\u03c0\u22c5t)"
       ]
      },
      {
       "output_type": "stream",
       "stream": "stdout",
       "text": [
        "___\n"
       ]
      },
      {
       "latex": [
        "$$- 4 \\pi \\left(\\pi t \\cos{\\left (2 \\pi t \\right )} + \\sin{\\left (2 \\pi t \\right )}\\right)$$"
       ],
       "metadata": {},
       "output_type": "display_data",
       "png": "[encoded data removed]",
       "text": [
        "-4\u22c5\u03c0\u22c5(\u03c0\u22c5t\u22c5cos(2\u22c5\u03c0\u22c5t) + sin(2\u22c5\u03c0\u22c5t))"
       ]
      },
      {
       "output_type": "stream",
       "stream": "stdout",
       "text": [
        "___\n"
       ]
      }
     ],
     "prompt_number": 7
    },
    {
     "cell_type": "markdown",
     "metadata": {},
     "source": [
      "### Why might this extension be useful?\n",
      "\n",
      " * It saves space in the final document, when intermediate results shall be displayed (e.g. for didactic purpose)\n",
      "   * allows to focus more on the content/results instead of boilerplate printing code\n",
      " * It saves typing effort during the development process (when much more internal information is of interest to understand and debug the code)\n",
      "   "
     ]
    }
   ],
   "metadata": {}
  }
 ]
}